{
  "nbformat": 4,
  "nbformat_minor": 0,
  "metadata": {
    "colab": {
      "provenance": [],
      "gpuType": "T4"
    },
    "kernelspec": {
      "name": "python3",
      "display_name": "Python 3"
    },
    "language_info": {
      "name": "python"
    },
    "accelerator": "GPU"
  },
  "cells": [
    {
      "cell_type": "markdown",
      "source": [
        "# Import library dan dataset\n"
      ],
      "metadata": {
        "id": "n8cm-K2BTpa_"
      }
    },
    {
      "cell_type": "code",
      "source": [
        "from google.colab import drive\n",
        "drive.mount('/content/drive')"
      ],
      "metadata": {
        "id": "n6HqlZZTTvtT"
      },
      "execution_count": null,
      "outputs": []
    },
    {
      "cell_type": "code",
      "source": [
        "import zipfile\n",
        "with zipfile.ZipFile(\"/content/drive/MyDrive/new_dataset_cv.zip\", 'r') as zip_ref:\n",
        "  zip_ref.extractall(\"./\")"
      ],
      "metadata": {
        "id": "IRLFIkgITveQ"
      },
      "execution_count": null,
      "outputs": []
    },
    {
      "cell_type": "code",
      "execution_count": null,
      "metadata": {
        "id": "rJWaZuE8SwOl"
      },
      "outputs": [],
      "source": [
        "import numpy as np\n",
        "import pandas as pd\n",
        "import tensorflow as tf\n",
        "from tensorflow.keras.preprocessing.image import ImageDataGenerator\n",
        "from tensorflow.keras.optimizers import Adam, RMSprop, SGD\n",
        "from tensorflow.keras.layers import Dense, MaxPooling2D, Dropout, Conv2D, Flatten, BatchNormalization\n",
        "from tensorflow.keras.models import Sequential\n",
        "from tensorflow.keras.metrics import Precision, Accuracy, Recall\n",
        "from tensorflow.keras.callbacks import EarlyStopping\n",
        "from tensorflow.keras.applications import MobileNet\n",
        "from tensorflow.keras import layers, Model\n",
        "\n",
        "from tensorflow.keras.applications.imagenet_utils import preprocess_input\n",
        "from tensorflow.keras.models import load_model\n",
        "from sklearn.metrics import confusion_matrix,classification_report\n",
        "\n",
        "%matplotlib inline\n",
        "import matplotlib.image as mpimg\n",
        "import matplotlib.pyplot as plt\n",
        "import seaborn as sns"
      ]
    },
    {
      "cell_type": "markdown",
      "source": [
        "# Image Data Generator\n",
        "\n"
      ],
      "metadata": {
        "id": "JH0MZynLTu15"
      }
    },
    {
      "cell_type": "code",
      "source": [
        "# Tentukan default dimensi tinggi dan lebar gambar\n",
        "img_width, img_height = 200, 200\n",
        "\n",
        "# Jumlah epoch yang dilakukan untuk proses training\n",
        "epochs = 15\n",
        "\n",
        "# Ukuran batch yang digunakan\n",
        "batch_size = 32\n",
        "\n",
        "# Channel gambar yang digunakan 1 = grayscale, 3 = rgb\n",
        "channel = 3"
      ],
      "metadata": {
        "id": "SdS2i8XIV7m7"
      },
      "execution_count": null,
      "outputs": []
    },
    {
      "cell_type": "code",
      "source": [
        "train_datagen = ImageDataGenerator(rescale=1/255)\n",
        "validation_datagen = ImageDataGenerator(rescale=1/255)\n",
        "test_datagen = ImageDataGenerator(rescale=1/255)\n",
        "\n",
        "#proses load data train\n",
        "train_generator = train_datagen.flow_from_directory('/content/new_dataset_cv/train',\n",
        "                                              batch_size=batch_size,\n",
        "                                              color_mode='rgb',\n",
        "                                              target_size=(img_width,img_height),\n",
        "                                              class_mode='categorical',\n",
        "                                              subset='training',\n",
        "                                              shuffle=True)\n",
        "\n",
        "#proses load data validation\n",
        "validation_generator = validation_datagen.flow_from_directory('/content/new_dataset_cv/validation',\n",
        "                                                  batch_size=batch_size,\n",
        "                                                  color_mode='rgb',\n",
        "                                                  target_size=(img_width,img_height),\n",
        "                                                  class_mode='categorical',\n",
        "                                                  shuffle=False)\n",
        "\n",
        "#proses load data set\n",
        "test_generator = test_datagen.flow_from_directory('/content/new_dataset_cv/test',\n",
        "                                                  batch_size=batch_size,\n",
        "                                                  color_mode='rgb',\n",
        "                                                  target_size=(img_width,img_height),\n",
        "                                                  class_mode='categorical',\n",
        "                                                  shuffle=False)"
      ],
      "metadata": {
        "colab": {
          "base_uri": "https://localhost:8080/"
        },
        "id": "6zxLDmm0UQst",
        "outputId": "a60ca3f3-9106-4d2e-827f-ea17de2740ff"
      },
      "execution_count": null,
      "outputs": [
        {
          "output_type": "stream",
          "name": "stdout",
          "text": [
            "Found 5185 images belonging to 5 classes.\n",
            "Found 575 images belonging to 5 classes.\n",
            "Found 1440 images belonging to 5 classes.\n"
          ]
        }
      ]
    },
    {
      "cell_type": "code",
      "source": [
        "classes = list(train_generator.class_indices.keys())\n",
        "classes"
      ],
      "metadata": {
        "colab": {
          "base_uri": "https://localhost:8080/"
        },
        "id": "_l0rfaIWfpwl",
        "outputId": "23d9500c-ef6b-4315-f9e3-8a1ab1e28a37"
      },
      "execution_count": null,
      "outputs": [
        {
          "output_type": "execute_result",
          "data": {
            "text/plain": [
              "['brown', 'dark', 'light', 'medium', 'pale']"
            ]
          },
          "metadata": {},
          "execution_count": 26
        }
      ]
    },
    {
      "cell_type": "markdown",
      "source": [
        "# Architecture Model MobileNet"
      ],
      "metadata": {
        "id": "5WKBGXkZTFAr"
      }
    },
    {
      "cell_type": "code",
      "source": [
        "conv_base_mobilenet = MobileNet( include_top=False,\n",
        "                                weights='imagenet',\n",
        "                                input_shape=(img_width, img_height, channel)\n",
        "                                )\n",
        "\n",
        "for layer in conv_base_mobilenet.layers:\n",
        "    layers.trainable = True"
      ],
      "metadata": {
        "id": "IFURkTcyTRnh",
        "colab": {
          "base_uri": "https://localhost:8080/"
        },
        "outputId": "f5e77ea6-8734-4d66-febb-bf38ed00bb84"
      },
      "execution_count": null,
      "outputs": [
        {
          "output_type": "stream",
          "name": "stderr",
          "text": [
            "WARNING:tensorflow:`input_shape` is undefined or non-square, or `rows` is not in [128, 160, 192, 224]. Weights for input shape (224, 224) will be loaded as the default.\n"
          ]
        },
        {
          "output_type": "stream",
          "name": "stdout",
          "text": [
            "Downloading data from https://storage.googleapis.com/tensorflow/keras-applications/mobilenet/mobilenet_1_0_224_tf_no_top.h5\n",
            "17225924/17225924 [==============================] - 1s 0us/step\n"
          ]
        }
      ]
    },
    {
      "cell_type": "code",
      "source": [
        "x = conv_base_mobilenet.output\n",
        "x = layers.GlobalAveragePooling2D()(x)\n",
        "x = layers.Dropout(0.2)(x)\n",
        "x = layers.Dense(64, activation='relu')(x)\n",
        "x = BatchNormalization()(x)\n",
        "x = layers.Dropout(0.2)(x)\n",
        "predictions = layers.Dense(5, activation='softmax')(x)\n",
        "model = Model(conv_base_mobilenet.input, predictions)\n",
        "\n",
        "# Compile model\n",
        "model.compile(loss='categorical_crossentropy',\n",
        "              optimizer=tf.keras.optimizers.RMSprop(learning_rate=0.0001),\n",
        "              metrics=[Recall(), Precision(),\"accuracy\"]\n",
        "              )\n",
        "\n",
        "# Summary of the Model Architecture\n",
        "model.summary()"
      ],
      "metadata": {
        "id": "v5xIE5RLTRdo",
        "colab": {
          "base_uri": "https://localhost:8080/"
        },
        "outputId": "24907776-92d3-4121-c350-399233bbe37f"
      },
      "execution_count": null,
      "outputs": [
        {
          "output_type": "stream",
          "name": "stdout",
          "text": [
            "Model: \"model_2\"\n",
            "_________________________________________________________________\n",
            " Layer (type)                Output Shape              Param #   \n",
            "=================================================================\n",
            " input_1 (InputLayer)        [(None, 200, 200, 3)]     0         \n",
            "                                                                 \n",
            " conv1 (Conv2D)              (None, 100, 100, 32)      864       \n",
            "                                                                 \n",
            " conv1_bn (BatchNormalizatio  (None, 100, 100, 32)     128       \n",
            " n)                                                              \n",
            "                                                                 \n",
            " conv1_relu (ReLU)           (None, 100, 100, 32)      0         \n",
            "                                                                 \n",
            " conv_dw_1 (DepthwiseConv2D)  (None, 100, 100, 32)     288       \n",
            "                                                                 \n",
            " conv_dw_1_bn (BatchNormaliz  (None, 100, 100, 32)     128       \n",
            " ation)                                                          \n",
            "                                                                 \n",
            " conv_dw_1_relu (ReLU)       (None, 100, 100, 32)      0         \n",
            "                                                                 \n",
            " conv_pw_1 (Conv2D)          (None, 100, 100, 64)      2048      \n",
            "                                                                 \n",
            " conv_pw_1_bn (BatchNormaliz  (None, 100, 100, 64)     256       \n",
            " ation)                                                          \n",
            "                                                                 \n",
            " conv_pw_1_relu (ReLU)       (None, 100, 100, 64)      0         \n",
            "                                                                 \n",
            " conv_pad_2 (ZeroPadding2D)  (None, 101, 101, 64)      0         \n",
            "                                                                 \n",
            " conv_dw_2 (DepthwiseConv2D)  (None, 50, 50, 64)       576       \n",
            "                                                                 \n",
            " conv_dw_2_bn (BatchNormaliz  (None, 50, 50, 64)       256       \n",
            " ation)                                                          \n",
            "                                                                 \n",
            " conv_dw_2_relu (ReLU)       (None, 50, 50, 64)        0         \n",
            "                                                                 \n",
            " conv_pw_2 (Conv2D)          (None, 50, 50, 128)       8192      \n",
            "                                                                 \n",
            " conv_pw_2_bn (BatchNormaliz  (None, 50, 50, 128)      512       \n",
            " ation)                                                          \n",
            "                                                                 \n",
            " conv_pw_2_relu (ReLU)       (None, 50, 50, 128)       0         \n",
            "                                                                 \n",
            " conv_dw_3 (DepthwiseConv2D)  (None, 50, 50, 128)      1152      \n",
            "                                                                 \n",
            " conv_dw_3_bn (BatchNormaliz  (None, 50, 50, 128)      512       \n",
            " ation)                                                          \n",
            "                                                                 \n",
            " conv_dw_3_relu (ReLU)       (None, 50, 50, 128)       0         \n",
            "                                                                 \n",
            " conv_pw_3 (Conv2D)          (None, 50, 50, 128)       16384     \n",
            "                                                                 \n",
            " conv_pw_3_bn (BatchNormaliz  (None, 50, 50, 128)      512       \n",
            " ation)                                                          \n",
            "                                                                 \n",
            " conv_pw_3_relu (ReLU)       (None, 50, 50, 128)       0         \n",
            "                                                                 \n",
            " conv_pad_4 (ZeroPadding2D)  (None, 51, 51, 128)       0         \n",
            "                                                                 \n",
            " conv_dw_4 (DepthwiseConv2D)  (None, 25, 25, 128)      1152      \n",
            "                                                                 \n",
            " conv_dw_4_bn (BatchNormaliz  (None, 25, 25, 128)      512       \n",
            " ation)                                                          \n",
            "                                                                 \n",
            " conv_dw_4_relu (ReLU)       (None, 25, 25, 128)       0         \n",
            "                                                                 \n",
            " conv_pw_4 (Conv2D)          (None, 25, 25, 256)       32768     \n",
            "                                                                 \n",
            " conv_pw_4_bn (BatchNormaliz  (None, 25, 25, 256)      1024      \n",
            " ation)                                                          \n",
            "                                                                 \n",
            " conv_pw_4_relu (ReLU)       (None, 25, 25, 256)       0         \n",
            "                                                                 \n",
            " conv_dw_5 (DepthwiseConv2D)  (None, 25, 25, 256)      2304      \n",
            "                                                                 \n",
            " conv_dw_5_bn (BatchNormaliz  (None, 25, 25, 256)      1024      \n",
            " ation)                                                          \n",
            "                                                                 \n",
            " conv_dw_5_relu (ReLU)       (None, 25, 25, 256)       0         \n",
            "                                                                 \n",
            " conv_pw_5 (Conv2D)          (None, 25, 25, 256)       65536     \n",
            "                                                                 \n",
            " conv_pw_5_bn (BatchNormaliz  (None, 25, 25, 256)      1024      \n",
            " ation)                                                          \n",
            "                                                                 \n",
            " conv_pw_5_relu (ReLU)       (None, 25, 25, 256)       0         \n",
            "                                                                 \n",
            " conv_pad_6 (ZeroPadding2D)  (None, 26, 26, 256)       0         \n",
            "                                                                 \n",
            " conv_dw_6 (DepthwiseConv2D)  (None, 12, 12, 256)      2304      \n",
            "                                                                 \n",
            " conv_dw_6_bn (BatchNormaliz  (None, 12, 12, 256)      1024      \n",
            " ation)                                                          \n",
            "                                                                 \n",
            " conv_dw_6_relu (ReLU)       (None, 12, 12, 256)       0         \n",
            "                                                                 \n",
            " conv_pw_6 (Conv2D)          (None, 12, 12, 512)       131072    \n",
            "                                                                 \n",
            " conv_pw_6_bn (BatchNormaliz  (None, 12, 12, 512)      2048      \n",
            " ation)                                                          \n",
            "                                                                 \n",
            " conv_pw_6_relu (ReLU)       (None, 12, 12, 512)       0         \n",
            "                                                                 \n",
            " conv_dw_7 (DepthwiseConv2D)  (None, 12, 12, 512)      4608      \n",
            "                                                                 \n",
            " conv_dw_7_bn (BatchNormaliz  (None, 12, 12, 512)      2048      \n",
            " ation)                                                          \n",
            "                                                                 \n",
            " conv_dw_7_relu (ReLU)       (None, 12, 12, 512)       0         \n",
            "                                                                 \n",
            " conv_pw_7 (Conv2D)          (None, 12, 12, 512)       262144    \n",
            "                                                                 \n",
            " conv_pw_7_bn (BatchNormaliz  (None, 12, 12, 512)      2048      \n",
            " ation)                                                          \n",
            "                                                                 \n",
            " conv_pw_7_relu (ReLU)       (None, 12, 12, 512)       0         \n",
            "                                                                 \n",
            " conv_dw_8 (DepthwiseConv2D)  (None, 12, 12, 512)      4608      \n",
            "                                                                 \n",
            " conv_dw_8_bn (BatchNormaliz  (None, 12, 12, 512)      2048      \n",
            " ation)                                                          \n",
            "                                                                 \n",
            " conv_dw_8_relu (ReLU)       (None, 12, 12, 512)       0         \n",
            "                                                                 \n",
            " conv_pw_8 (Conv2D)          (None, 12, 12, 512)       262144    \n",
            "                                                                 \n",
            " conv_pw_8_bn (BatchNormaliz  (None, 12, 12, 512)      2048      \n",
            " ation)                                                          \n",
            "                                                                 \n",
            " conv_pw_8_relu (ReLU)       (None, 12, 12, 512)       0         \n",
            "                                                                 \n",
            " conv_dw_9 (DepthwiseConv2D)  (None, 12, 12, 512)      4608      \n",
            "                                                                 \n",
            " conv_dw_9_bn (BatchNormaliz  (None, 12, 12, 512)      2048      \n",
            " ation)                                                          \n",
            "                                                                 \n",
            " conv_dw_9_relu (ReLU)       (None, 12, 12, 512)       0         \n",
            "                                                                 \n",
            " conv_pw_9 (Conv2D)          (None, 12, 12, 512)       262144    \n",
            "                                                                 \n",
            " conv_pw_9_bn (BatchNormaliz  (None, 12, 12, 512)      2048      \n",
            " ation)                                                          \n",
            "                                                                 \n",
            " conv_pw_9_relu (ReLU)       (None, 12, 12, 512)       0         \n",
            "                                                                 \n",
            " conv_dw_10 (DepthwiseConv2D  (None, 12, 12, 512)      4608      \n",
            " )                                                               \n",
            "                                                                 \n",
            " conv_dw_10_bn (BatchNormali  (None, 12, 12, 512)      2048      \n",
            " zation)                                                         \n",
            "                                                                 \n",
            " conv_dw_10_relu (ReLU)      (None, 12, 12, 512)       0         \n",
            "                                                                 \n",
            " conv_pw_10 (Conv2D)         (None, 12, 12, 512)       262144    \n",
            "                                                                 \n",
            " conv_pw_10_bn (BatchNormali  (None, 12, 12, 512)      2048      \n",
            " zation)                                                         \n",
            "                                                                 \n",
            " conv_pw_10_relu (ReLU)      (None, 12, 12, 512)       0         \n",
            "                                                                 \n",
            " conv_dw_11 (DepthwiseConv2D  (None, 12, 12, 512)      4608      \n",
            " )                                                               \n",
            "                                                                 \n",
            " conv_dw_11_bn (BatchNormali  (None, 12, 12, 512)      2048      \n",
            " zation)                                                         \n",
            "                                                                 \n",
            " conv_dw_11_relu (ReLU)      (None, 12, 12, 512)       0         \n",
            "                                                                 \n",
            " conv_pw_11 (Conv2D)         (None, 12, 12, 512)       262144    \n",
            "                                                                 \n",
            " conv_pw_11_bn (BatchNormali  (None, 12, 12, 512)      2048      \n",
            " zation)                                                         \n",
            "                                                                 \n",
            " conv_pw_11_relu (ReLU)      (None, 12, 12, 512)       0         \n",
            "                                                                 \n",
            " conv_pad_12 (ZeroPadding2D)  (None, 13, 13, 512)      0         \n",
            "                                                                 \n",
            " conv_dw_12 (DepthwiseConv2D  (None, 6, 6, 512)        4608      \n",
            " )                                                               \n",
            "                                                                 \n",
            " conv_dw_12_bn (BatchNormali  (None, 6, 6, 512)        2048      \n",
            " zation)                                                         \n",
            "                                                                 \n",
            " conv_dw_12_relu (ReLU)      (None, 6, 6, 512)         0         \n",
            "                                                                 \n",
            " conv_pw_12 (Conv2D)         (None, 6, 6, 1024)        524288    \n",
            "                                                                 \n",
            " conv_pw_12_bn (BatchNormali  (None, 6, 6, 1024)       4096      \n",
            " zation)                                                         \n",
            "                                                                 \n",
            " conv_pw_12_relu (ReLU)      (None, 6, 6, 1024)        0         \n",
            "                                                                 \n",
            " conv_dw_13 (DepthwiseConv2D  (None, 6, 6, 1024)       9216      \n",
            " )                                                               \n",
            "                                                                 \n",
            " conv_dw_13_bn (BatchNormali  (None, 6, 6, 1024)       4096      \n",
            " zation)                                                         \n",
            "                                                                 \n",
            " conv_dw_13_relu (ReLU)      (None, 6, 6, 1024)        0         \n",
            "                                                                 \n",
            " conv_pw_13 (Conv2D)         (None, 6, 6, 1024)        1048576   \n",
            "                                                                 \n",
            " conv_pw_13_bn (BatchNormali  (None, 6, 6, 1024)       4096      \n",
            " zation)                                                         \n",
            "                                                                 \n",
            " conv_pw_13_relu (ReLU)      (None, 6, 6, 1024)        0         \n",
            "                                                                 \n",
            " global_average_pooling2d_2   (None, 1024)             0         \n",
            " (GlobalAveragePooling2D)                                        \n",
            "                                                                 \n",
            " dropout_4 (Dropout)         (None, 1024)              0         \n",
            "                                                                 \n",
            " dense_4 (Dense)             (None, 64)                65600     \n",
            "                                                                 \n",
            " batch_normalization_2 (Batc  (None, 64)               256       \n",
            " hNormalization)                                                 \n",
            "                                                                 \n",
            " dropout_5 (Dropout)         (None, 64)                0         \n",
            "                                                                 \n",
            " dense_5 (Dense)             (None, 5)                 325       \n",
            "                                                                 \n",
            "=================================================================\n",
            "Total params: 3,295,045\n",
            "Trainable params: 3,273,029\n",
            "Non-trainable params: 22,016\n",
            "_________________________________________________________________\n"
          ]
        }
      ]
    },
    {
      "cell_type": "markdown",
      "source": [
        "# Training Model CNN"
      ],
      "metadata": {
        "id": "z5pQFcfpSyf6"
      }
    },
    {
      "cell_type": "code",
      "source": [
        "%time\n",
        "\n",
        "history_skin = model.fit(train_generator,\n",
        "                    epochs=epochs,\n",
        "                    batch_size=32,\n",
        "                    validation_data=validation_generator)"
      ],
      "metadata": {
        "id": "V1rlcwZfTT0v",
        "colab": {
          "base_uri": "https://localhost:8080/"
        },
        "outputId": "8508fe37-5705-4de6-8b19-aa213a232f19"
      },
      "execution_count": null,
      "outputs": [
        {
          "output_type": "stream",
          "name": "stdout",
          "text": [
            "CPU times: user 2 µs, sys: 1 µs, total: 3 µs\n",
            "Wall time: 6.2 µs\n",
            "Epoch 1/15\n",
            "163/163 [==============================] - 64s 251ms/step - loss: 0.8146 - recall: 0.6253 - precision: 0.7360 - accuracy: 0.6864 - val_loss: 0.3515 - val_recall: 0.8330 - val_precision: 0.8600 - val_accuracy: 0.8504\n",
            "Epoch 2/15\n",
            "163/163 [==============================] - 40s 244ms/step - loss: 0.2816 - recall: 0.8831 - precision: 0.9107 - accuracy: 0.8980 - val_loss: 0.1855 - val_recall: 0.9217 - val_precision: 0.9364 - val_accuracy: 0.9287\n",
            "Epoch 3/15\n",
            "163/163 [==============================] - 40s 243ms/step - loss: 0.1470 - recall: 0.9462 - precision: 0.9584 - accuracy: 0.9516 - val_loss: 0.1351 - val_recall: 0.9513 - val_precision: 0.9546 - val_accuracy: 0.9513\n",
            "Epoch 4/15\n",
            "163/163 [==============================] - 40s 244ms/step - loss: 0.0907 - recall: 0.9689 - precision: 0.9750 - accuracy: 0.9722 - val_loss: 0.1267 - val_recall: 0.9548 - val_precision: 0.9632 - val_accuracy: 0.9548\n",
            "Epoch 5/15\n",
            "163/163 [==============================] - 40s 247ms/step - loss: 0.0619 - recall: 0.9807 - precision: 0.9843 - accuracy: 0.9823 - val_loss: 0.1116 - val_recall: 0.9583 - val_precision: 0.9616 - val_accuracy: 0.9617\n",
            "Epoch 6/15\n",
            "163/163 [==============================] - 44s 272ms/step - loss: 0.0379 - recall: 0.9904 - precision: 0.9921 - accuracy: 0.9911 - val_loss: 0.2056 - val_recall: 0.9287 - val_precision: 0.9368 - val_accuracy: 0.9339\n",
            "Epoch 7/15\n",
            "163/163 [==============================] - 40s 247ms/step - loss: 0.0294 - recall: 0.9923 - precision: 0.9940 - accuracy: 0.9929 - val_loss: 0.1097 - val_recall: 0.9635 - val_precision: 0.9652 - val_accuracy: 0.9652\n",
            "Epoch 8/15\n",
            "163/163 [==============================] - 40s 246ms/step - loss: 0.0254 - recall: 0.9934 - precision: 0.9950 - accuracy: 0.9946 - val_loss: 0.1039 - val_recall: 0.9600 - val_precision: 0.9634 - val_accuracy: 0.9600\n",
            "Epoch 9/15\n",
            "163/163 [==============================] - 40s 246ms/step - loss: 0.0228 - recall: 0.9942 - precision: 0.9952 - accuracy: 0.9946 - val_loss: 0.1326 - val_recall: 0.9652 - val_precision: 0.9703 - val_accuracy: 0.9652\n",
            "Epoch 10/15\n",
            "163/163 [==============================] - 40s 248ms/step - loss: 0.0168 - recall: 0.9956 - precision: 0.9965 - accuracy: 0.9958 - val_loss: 0.1600 - val_recall: 0.9513 - val_precision: 0.9546 - val_accuracy: 0.9548\n",
            "Epoch 11/15\n",
            "163/163 [==============================] - 40s 245ms/step - loss: 0.0166 - recall: 0.9956 - precision: 0.9963 - accuracy: 0.9958 - val_loss: 0.1636 - val_recall: 0.9600 - val_precision: 0.9650 - val_accuracy: 0.9617\n",
            "Epoch 12/15\n",
            "163/163 [==============================] - 41s 250ms/step - loss: 0.0187 - recall: 0.9948 - precision: 0.9961 - accuracy: 0.9952 - val_loss: 0.0905 - val_recall: 0.9722 - val_precision: 0.9739 - val_accuracy: 0.9739\n",
            "Epoch 13/15\n",
            "163/163 [==============================] - 40s 244ms/step - loss: 0.0101 - recall: 0.9971 - precision: 0.9979 - accuracy: 0.9973 - val_loss: 0.1223 - val_recall: 0.9617 - val_precision: 0.9685 - val_accuracy: 0.9670\n",
            "Epoch 14/15\n",
            "163/163 [==============================] - 40s 246ms/step - loss: 0.0147 - recall: 0.9956 - precision: 0.9961 - accuracy: 0.9958 - val_loss: 0.1456 - val_recall: 0.9617 - val_precision: 0.9617 - val_accuracy: 0.9617\n",
            "Epoch 15/15\n",
            "163/163 [==============================] - 40s 243ms/step - loss: 0.0130 - recall: 0.9967 - precision: 0.9973 - accuracy: 0.9967 - val_loss: 0.1352 - val_recall: 0.9600 - val_precision: 0.9600 - val_accuracy: 0.9600\n"
          ]
        }
      ]
    },
    {
      "cell_type": "markdown",
      "source": [
        "# Graph Loss and Accuracy"
      ],
      "metadata": {
        "id": "H8-_jVUsSykg"
      }
    },
    {
      "cell_type": "code",
      "source": [
        "acc = history.history['accuracy']\n",
        "val_acc = history.history['val_accuracy']\n",
        "loss = history.history['loss']\n",
        "val_loss = history.history['val_loss']\n",
        "\n",
        "epochs = range(len(acc))\n",
        "\n",
        "plt.plot(epochs, acc, 'r')\n",
        "plt.plot(epochs, val_acc, 'b')\n",
        "plt.title('Training and Validation Accuracy')\n",
        "plt.ylabel('accuracy')\n",
        "plt.xlabel('epoch')\n",
        "plt.legend(['train', 'val'], loc='upper left')\n",
        "plt.show()\n",
        "\n",
        "plt.plot(epochs, loss, 'r')\n",
        "plt.plot(epochs, val_loss, 'b')\n",
        "plt.ylabel('loss')\n",
        "plt.xlabel('epoch')\n",
        "plt.legend(['train', 'val'], loc='upper left')\n",
        "plt.title('Training and Validaion Loss')\n",
        "plt.show()"
      ],
      "metadata": {
        "id": "Iff41RkJTYMO",
        "colab": {
          "base_uri": "https://localhost:8080/",
          "height": 927
        },
        "outputId": "831249f4-e55f-4435-ecee-51a004394395"
      },
      "execution_count": null,
      "outputs": [
        {
          "output_type": "display_data",
          "data": {
            "text/plain": [
              "<Figure size 640x480 with 1 Axes>"
            ],
            "image/png": "[encoded data removed]"
          },
          "metadata": {}
        },
        {
          "output_type": "display_data",
          "data": {
            "text/plain": [
              "<Figure size 640x480 with 1 Axes>"
            ],
            "image/png": "[encoded data removed]"
          },
          "metadata": {}
        }
      ]
    },
    {
      "cell_type": "markdown",
      "source": [
        "# Evaluation Model Using Testing Data"
      ],
      "metadata": {
        "id": "2bc_yWGESyoW"
      }
    },
    {
      "cell_type": "code",
      "source": [
        "# Prediction using testing data\n",
        "preds = model.predict(test_generator,verbose=0)\n",
        "test_labels = [np.argmax(pred) for pred in preds]\n",
        "\n",
        "# Print Classification Report\n",
        "print(classification_report(y_true=test_generator.classes,y_pred=test_labels,\n",
        "                            target_names =['brown', 'dark', 'light', 'medium', 'pale'], digits=5))"
      ],
      "metadata": {
        "id": "s1vXHloiThxt",
        "colab": {
          "base_uri": "https://localhost:8080/"
        },
        "outputId": "5d4382bc-0e0b-4713-c9b5-a8937f208a57"
      },
      "execution_count": null,
      "outputs": [
        {
          "output_type": "stream",
          "name": "stdout",
          "text": [
            "              precision    recall  f1-score   support\n",
            "\n",
            "       brown    0.93688   0.97917   0.95756       288\n",
            "        dark    0.99640   0.96181   0.97880       288\n",
            "       light    0.94040   0.98611   0.96271       288\n",
            "      medium    0.98227   0.96181   0.97193       288\n",
            "        pale    0.98556   0.94792   0.96637       288\n",
            "\n",
            "    accuracy                        0.96736      1440\n",
            "   macro avg    0.96830   0.96736   0.96747      1440\n",
            "weighted avg    0.96830   0.96736   0.96747      1440\n",
            "\n"
          ]
        }
      ]
    },
    {
      "cell_type": "code",
      "source": [
        "# Prediction using testing data\n",
        "preds = model.predict(test_generator,verbose=0)\n",
        "test_labels = [np.argmax(pred) for pred in preds]\n",
        "\n",
        "cm = pd.DataFrame(data=confusion_matrix(test_generator.classes, test_labels,\n",
        "                                        labels=[0, 1, 2, 3, 4]),\n",
        "                                        index=['Actual brown', 'Actual dark',\n",
        "                                               'Actual light', 'Actual medium',\n",
        "                                               'Actual pale'],\n",
        "                                        columns=['Predicted brown', 'Predicted dark',\n",
        "                                                 'Predicted light', 'Predicted medium',\n",
        "                                                 'Predicted pale'\n",
        "                                                ])\n",
        "sns.heatmap(cm,annot=True,fmt=\"d\")\n",
        "plt.show()"
      ],
      "metadata": {
        "id": "LF9L6IznThqG",
        "colab": {
          "base_uri": "https://localhost:8080/",
          "height": 543
        },
        "outputId": "876e13b1-5239-483b-fe96-76a2fdfbbdd8"
      },
      "execution_count": null,
      "outputs": [
        {
          "output_type": "display_data",
          "data": {
            "text/plain": [
              "<Figure size 640x480 with 2 Axes>"
            ],
            "image/png": "[encoded data removed]"
          },
          "metadata": {}
        }
      ]
    },
    {
      "cell_type": "code",
      "source": [
        "# save model to h5 format\n",
        "model.save('Model-Skin.h5')"
      ],
      "metadata": {
        "id": "BaqQqED9This"
      },
      "execution_count": null,
      "outputs": []
    },
    {
      "cell_type": "code",
      "source": [
        "from google.colab import files\n",
        "from tensorflow.keras.preprocessing import image\n",
        "\n",
        "# Display result of prediction new data\n",
        "model = tf.keras.models.load_model('Model-Skin.h5')\n",
        "\n",
        "uploaded = files.upload()\n",
        "\n",
        "for fn in uploaded.keys():\n",
        "  path = fn\n",
        "  img = image.load_img(path, color_mode=\"rgb\", target_size=(224, 224))\n",
        "  img = image.img_to_array(img)\n",
        "  img = np.expand_dims(img, axis=0)\n",
        "  img = img/255\n",
        "\n",
        "  images = np.vstack([img])\n",
        "\n",
        "  classes = list(train_generator.class_indices.keys())\n",
        "  pred = model.predict(images, verbose=0)\n",
        "  index = np.argmax(pred[0])\n",
        "  probability= round(pred[0][index]*100, 2)\n",
        "\n",
        "  plt.figure(figsize=(6,6))\n",
        "  plt.axis('off')\n",
        "  title = f'Predict : {probability}% {classes[index]}'\n",
        "  plt.title(title)\n",
        "  plt.imshow(np.squeeze(images))\n",
        "  plt.show()"
      ],
      "metadata": {
        "id": "7Cf9TFJ_ThcA"
      },
      "execution_count": null,
      "outputs": []
    }
  ]
}